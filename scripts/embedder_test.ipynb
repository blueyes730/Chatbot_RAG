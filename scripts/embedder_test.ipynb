{
 "cells": [
  {
   "cell_type": "code",
   "execution_count": 1,
   "metadata": {},
   "outputs": [
    {
     "name": "stdout",
     "output_type": "stream",
     "text": [
      "Collecting sentence_transformers\n",
      "  Downloading sentence_transformers-3.0.1-py3-none-any.whl.metadata (10 kB)\n",
      "Collecting transformers<5.0.0,>=4.34.0 (from sentence_transformers)\n",
      "  Using cached transformers-4.42.4-py3-none-any.whl.metadata (43 kB)\n",
      "Requirement already satisfied: tqdm in /home/blueyes730/anaconda3/envs/RAG_llm_opensource/lib/python3.12/site-packages (from sentence_transformers) (4.66.4)\n",
      "Requirement already satisfied: torch>=1.11.0 in /home/blueyes730/anaconda3/envs/RAG_llm_opensource/lib/python3.12/site-packages (from sentence_transformers) (2.3.1)\n",
      "Requirement already satisfied: numpy in /home/blueyes730/anaconda3/envs/RAG_llm_opensource/lib/python3.12/site-packages (from sentence_transformers) (1.26.4)\n",
      "Collecting scikit-learn (from sentence_transformers)\n",
      "  Downloading scikit_learn-1.5.1-cp312-cp312-manylinux_2_17_x86_64.manylinux2014_x86_64.whl.metadata (12 kB)\n",
      "Collecting scipy (from sentence_transformers)\n",
      "  Downloading scipy-1.14.0-cp312-cp312-manylinux_2_17_x86_64.manylinux2014_x86_64.whl.metadata (60 kB)\n",
      "\u001b[2K     \u001b[90m━━━━━━━━━━━━━━━━━━━━━━━━━━━━━━━━━━━━━━━━\u001b[0m \u001b[32m60.8/60.8 kB\u001b[0m \u001b[31m4.8 MB/s\u001b[0m eta \u001b[36m0:00:00\u001b[0m\n",
      "\u001b[?25hCollecting huggingface-hub>=0.15.1 (from sentence_transformers)\n",
      "  Using cached huggingface_hub-0.23.4-py3-none-any.whl.metadata (12 kB)\n",
      "Requirement already satisfied: Pillow in /home/blueyes730/anaconda3/envs/RAG_llm_opensource/lib/python3.12/site-packages (from sentence_transformers) (10.3.0)\n",
      "Requirement already satisfied: filelock in /home/blueyes730/anaconda3/envs/RAG_llm_opensource/lib/python3.12/site-packages (from huggingface-hub>=0.15.1->sentence_transformers) (3.13.1)\n",
      "Collecting fsspec>=2023.5.0 (from huggingface-hub>=0.15.1->sentence_transformers)\n",
      "  Using cached fsspec-2024.6.1-py3-none-any.whl.metadata (11 kB)\n",
      "Requirement already satisfied: packaging>=20.9 in /home/blueyes730/anaconda3/envs/RAG_llm_opensource/lib/python3.12/site-packages (from huggingface-hub>=0.15.1->sentence_transformers) (24.1)\n",
      "Requirement already satisfied: pyyaml>=5.1 in /home/blueyes730/anaconda3/envs/RAG_llm_opensource/lib/python3.12/site-packages (from huggingface-hub>=0.15.1->sentence_transformers) (6.0.1)\n",
      "Requirement already satisfied: requests in /home/blueyes730/anaconda3/envs/RAG_llm_opensource/lib/python3.12/site-packages (from huggingface-hub>=0.15.1->sentence_transformers) (2.32.2)\n",
      "Requirement already satisfied: typing-extensions>=3.7.4.3 in /home/blueyes730/anaconda3/envs/RAG_llm_opensource/lib/python3.12/site-packages (from huggingface-hub>=0.15.1->sentence_transformers) (4.11.0)\n",
      "Requirement already satisfied: sympy in /home/blueyes730/anaconda3/envs/RAG_llm_opensource/lib/python3.12/site-packages (from torch>=1.11.0->sentence_transformers) (1.12)\n",
      "Requirement already satisfied: networkx in /home/blueyes730/anaconda3/envs/RAG_llm_opensource/lib/python3.12/site-packages (from torch>=1.11.0->sentence_transformers) (3.2.1)\n",
      "Requirement already satisfied: jinja2 in /home/blueyes730/anaconda3/envs/RAG_llm_opensource/lib/python3.12/site-packages (from torch>=1.11.0->sentence_transformers) (3.1.4)\n",
      "Collecting regex!=2019.12.17 (from transformers<5.0.0,>=4.34.0->sentence_transformers)\n",
      "  Using cached regex-2024.5.15-cp312-cp312-manylinux_2_17_x86_64.manylinux2014_x86_64.whl.metadata (40 kB)\n",
      "Collecting safetensors>=0.4.1 (from transformers<5.0.0,>=4.34.0->sentence_transformers)\n",
      "  Using cached safetensors-0.4.3-cp312-cp312-manylinux_2_17_x86_64.manylinux2014_x86_64.whl.metadata (3.8 kB)\n",
      "Collecting tokenizers<0.20,>=0.19 (from transformers<5.0.0,>=4.34.0->sentence_transformers)\n",
      "  Using cached tokenizers-0.19.1-cp312-cp312-manylinux_2_17_x86_64.manylinux2014_x86_64.whl.metadata (6.7 kB)\n",
      "Collecting joblib>=1.2.0 (from scikit-learn->sentence_transformers)\n",
      "  Downloading joblib-1.4.2-py3-none-any.whl.metadata (5.4 kB)\n",
      "Collecting threadpoolctl>=3.1.0 (from scikit-learn->sentence_transformers)\n",
      "  Downloading threadpoolctl-3.5.0-py3-none-any.whl.metadata (13 kB)\n",
      "Requirement already satisfied: MarkupSafe>=2.0 in /home/blueyes730/anaconda3/envs/RAG_llm_opensource/lib/python3.12/site-packages (from jinja2->torch>=1.11.0->sentence_transformers) (2.1.3)\n",
      "Requirement already satisfied: charset-normalizer<4,>=2 in /home/blueyes730/anaconda3/envs/RAG_llm_opensource/lib/python3.12/site-packages (from requests->huggingface-hub>=0.15.1->sentence_transformers) (2.0.4)\n",
      "Requirement already satisfied: idna<4,>=2.5 in /home/blueyes730/anaconda3/envs/RAG_llm_opensource/lib/python3.12/site-packages (from requests->huggingface-hub>=0.15.1->sentence_transformers) (3.7)\n",
      "Requirement already satisfied: urllib3<3,>=1.21.1 in /home/blueyes730/anaconda3/envs/RAG_llm_opensource/lib/python3.12/site-packages (from requests->huggingface-hub>=0.15.1->sentence_transformers) (1.26.19)\n",
      "Requirement already satisfied: certifi>=2017.4.17 in /home/blueyes730/anaconda3/envs/RAG_llm_opensource/lib/python3.12/site-packages (from requests->huggingface-hub>=0.15.1->sentence_transformers) (2024.6.2)\n",
      "Requirement already satisfied: mpmath>=0.19 in /home/blueyes730/anaconda3/envs/RAG_llm_opensource/lib/python3.12/site-packages (from sympy->torch>=1.11.0->sentence_transformers) (1.3.0)\n",
      "Downloading sentence_transformers-3.0.1-py3-none-any.whl (227 kB)\n",
      "\u001b[2K   \u001b[90m━━━━━━━━━━━━━━━━━━━━━━━━━━━━━━━━━━━━━━━━\u001b[0m \u001b[32m227.1/227.1 kB\u001b[0m \u001b[31m7.8 MB/s\u001b[0m eta \u001b[36m0:00:00\u001b[0m\n",
      "\u001b[?25hUsing cached huggingface_hub-0.23.4-py3-none-any.whl (402 kB)\n",
      "Using cached transformers-4.42.4-py3-none-any.whl (9.3 MB)\n",
      "Downloading scikit_learn-1.5.1-cp312-cp312-manylinux_2_17_x86_64.manylinux2014_x86_64.whl (13.1 MB)\n",
      "\u001b[2K   \u001b[90m━━━━━━━━━━━━━━━━━━━━━━━━━━━━━━━━━━━━━━━━\u001b[0m \u001b[32m13.1/13.1 MB\u001b[0m \u001b[31m15.5 MB/s\u001b[0m eta \u001b[36m0:00:00\u001b[0m00:01\u001b[0m00:01\u001b[0m\n",
      "\u001b[?25hDownloading scipy-1.14.0-cp312-cp312-manylinux_2_17_x86_64.manylinux2014_x86_64.whl (40.8 MB)\n",
      "\u001b[2K   \u001b[90m━━━━━━━━━━━━━━━━━━━━━━━━━━━━━━━━━━━━━━━━\u001b[0m \u001b[32m40.8/40.8 MB\u001b[0m \u001b[31m15.6 MB/s\u001b[0m eta \u001b[36m0:00:00\u001b[0m00:01\u001b[0m00:01\u001b[0m\n",
      "\u001b[?25hUsing cached fsspec-2024.6.1-py3-none-any.whl (177 kB)\n",
      "Downloading joblib-1.4.2-py3-none-any.whl (301 kB)\n",
      "\u001b[2K   \u001b[90m━━━━━━━━━━━━━━━━━━━━━━━━━━━━━━━━━━━━━━━━\u001b[0m \u001b[32m301.8/301.8 kB\u001b[0m \u001b[31m10.8 MB/s\u001b[0m eta \u001b[36m0:00:00\u001b[0m\n",
      "\u001b[?25hUsing cached regex-2024.5.15-cp312-cp312-manylinux_2_17_x86_64.manylinux2014_x86_64.whl (788 kB)\n",
      "Using cached safetensors-0.4.3-cp312-cp312-manylinux_2_17_x86_64.manylinux2014_x86_64.whl (1.2 MB)\n",
      "Downloading threadpoolctl-3.5.0-py3-none-any.whl (18 kB)\n",
      "Using cached tokenizers-0.19.1-cp312-cp312-manylinux_2_17_x86_64.manylinux2014_x86_64.whl (3.6 MB)\n",
      "Installing collected packages: threadpoolctl, scipy, safetensors, regex, joblib, fsspec, scikit-learn, huggingface-hub, tokenizers, transformers, sentence_transformers\n",
      "Successfully installed fsspec-2024.6.1 huggingface-hub-0.23.4 joblib-1.4.2 regex-2024.5.15 safetensors-0.4.3 scikit-learn-1.5.1 scipy-1.14.0 sentence_transformers-3.0.1 threadpoolctl-3.5.0 tokenizers-0.19.1 transformers-4.42.4\n"
     ]
    }
   ],
   "source": [
    "! pip install sentence_transformers"
   ]
  },
  {
   "cell_type": "code",
   "execution_count": 1,
   "metadata": {},
   "outputs": [],
   "source": [
    "%load_ext autoreload\n",
    "%autoreload 2\n"
   ]
  },
  {
   "cell_type": "code",
   "execution_count": 2,
   "metadata": {},
   "outputs": [
    {
     "name": "stderr",
     "output_type": "stream",
     "text": [
      "/home/blueyes730/anaconda3/envs/RAG_llm_opensource/lib/python3.12/site-packages/tqdm/auto.py:21: TqdmWarning: IProgress not found. Please update jupyter and ipywidgets. See https://ipywidgets.readthedocs.io/en/stable/user_install.html\n",
      "  from .autonotebook import tqdm as notebook_tqdm\n"
     ]
    }
   ],
   "source": [
    "import embedder\n",
    "\n",
    "\n",
    "text = \"This is a test string to see if the vector embedding function works.\"\n",
    "text2 = \"This is a test string to check to see if the vector embedder in functioning properly\"\n",
    "text3 = \"This sentence is completely different\"\n",
    "\n",
    "e1 = embedder.embedder(text=text)\n",
    "e2 = embedder.embedder(text=text2)\n",
    "e3 = embedder.embedder(text=text3)"
   ]
  },
  {
   "cell_type": "code",
   "execution_count": 3,
   "metadata": {},
   "outputs": [
    {
     "name": "stdout",
     "output_type": "stream",
     "text": [
      "Semantic similarity between texts 1 and 2: 0.9392482\n",
      "Semantic similarity between texts 1 and 3: 0.6256845\n"
     ]
    }
   ],
   "source": [
    "from sklearn.metrics.pairwise import cosine_similarity\n",
    "\n",
    "similarity_score_12 = cosine_similarity(e1,e2)\n",
    "similarity_score_13 = cosine_similarity(e1,e3)\n",
    "\n",
    "print(\"Semantic similarity between texts 1 and 2:\", similarity_score_12[0][0])\n",
    "print(\"Semantic similarity between texts 1 and 3:\", similarity_score_13[0][0])"
   ]
  },
  {
   "cell_type": "code",
   "execution_count": 8,
   "metadata": {},
   "outputs": [
    {
     "name": "stdout",
     "output_type": "stream",
     "text": [
      "Semantic similarity between texts 4 and 5:  [[0.6772487]]\n",
      "Semantic similarity between texts 6 and 7:  [[0.83692694]]\n",
      "Semantic similarity between texts 5 and 8:  [[1.0000001]]\n"
     ]
    }
   ],
   "source": [
    "e4 = embedder.embedder(text=\"tell me about attention\")\n",
    "e5 = embedder.embedder(text=\"what is attention\")\n",
    "e6 = embedder.embedder(text=\"what is attention in transformers\")\n",
    "e7 = embedder.embedder(text=\"what is attention in psychology\")\n",
    "e8 = embedder.embedder(text=\"what is attention\")\n",
    "\n",
    "sscore45 = cosine_similarity(e4,e5)\n",
    "sscore46 = cosine_similarity(e4,e6)\n",
    "sscore67 = cosine_similarity(e6,e7)\n",
    "\n",
    "print(\"Semantic similarity between texts 4 and 5: \", sscore45)\n",
    "print(\"Semantic similarity between texts 6 and 7: \", sscore67)\n",
    "print(\"Semantic similarity between texts 5 and 8: \", cosine_similarity(e5,e8))"
   ]
  }
 ],
 "metadata": {
  "kernelspec": {
   "display_name": "RAG_llm_opensource",
   "language": "python",
   "name": "python3"
  },
  "language_info": {
   "codemirror_mode": {
    "name": "ipython",
    "version": 3
   },
   "file_extension": ".py",
   "mimetype": "text/x-python",
   "name": "python",
   "nbconvert_exporter": "python",
   "pygments_lexer": "ipython3",
   "version": "3.12.4"
  }
 },
 "nbformat": 4,
 "nbformat_minor": 2
}
